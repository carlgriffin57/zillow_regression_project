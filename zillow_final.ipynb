{
 "cells": [
  {
   "cell_type": "markdown",
   "metadata": {},
   "source": [
    "# Zillow Regression Project\n",
    "### By Carl Griffin\n",
    "### June 15, 2021"
   ]
  },
  {
   "cell_type": "code",
   "execution_count": 1,
   "metadata": {},
   "outputs": [],
   "source": [
    "import numpy as np\n",
    "import pandas as pd\n",
    "import math\n",
    "from acquire import get_zillow_data\n",
    "from wrangle_zillow import prep_zillow_data, wrangle_zillow, train_validate_test, Min_Max_Scaler, outlier_calculation\n",
    "from evaluate import baseline_mean_errors, baseline_median_errors, plot_residuals, regression_errors\n",
    "import matplotlib.pyplot as plt\n",
    "import seaborn as sns\n",
    "from scipy import stats\n",
    "\n",
    "from sklearn.linear_model import LinearRegression, LassoLars, TweedieRegressor\n",
    "from sklearn.metrics import mean_squared_error, explained_variance_score\n",
    "from sklearn.preprocessing import PolynomialFeatures"
   ]
  },
  {
   "cell_type": "markdown",
   "metadata": {},
   "source": [
    "## Project Planning\n",
    "### Initial Questions\n",
    "- What constitutes a single unit property?\n",
    "- What features are the best drivers for predicting a single unit property's value?\n",
    "### Initial Hypotheses\n",
    "\n",
    "- $H_0$: The features number of bedrooms, number of bathrooms, and square feet offer no predictive value for a single unit property's value.\n",
    "- $H_a$: These features help predict a single unit property's value.\n",
    "\n"
   ]
  },
  {
   "cell_type": "markdown",
   "metadata": {},
   "source": [
    "### Acquire and examine the data\n",
    "\n",
    "Acquire the data from the zillow database ('Single Family Residential' properties from  May-Aug, 2017)\n",
    "\n"
   ]
  },
  {
   "cell_type": "code",
   "execution_count": 2,
   "metadata": {},
   "outputs": [],
   "source": [
    "df = get_zillow_data()"
   ]
  },
  {
   "cell_type": "code",
   "execution_count": 3,
   "metadata": {},
   "outputs": [
    {
     "data": {
      "text/html": [
       "<div>\n",
       "<style scoped>\n",
       "    .dataframe tbody tr th:only-of-type {\n",
       "        vertical-align: middle;\n",
       "    }\n",
       "\n",
       "    .dataframe tbody tr th {\n",
       "        vertical-align: top;\n",
       "    }\n",
       "\n",
       "    .dataframe thead th {\n",
       "        text-align: right;\n",
       "    }\n",
       "</style>\n",
       "<table border=\"1\" class=\"dataframe\">\n",
       "  <thead>\n",
       "    <tr style=\"text-align: right;\">\n",
       "      <th></th>\n",
       "      <th>propertylandusetypeid</th>\n",
       "      <th>transactiondate</th>\n",
       "      <th>calculatedfinishedsquarefeet</th>\n",
       "      <th>bedroomcnt</th>\n",
       "      <th>bathroomcnt</th>\n",
       "      <th>taxvaluedollarcnt</th>\n",
       "      <th>taxamount</th>\n",
       "      <th>fips</th>\n",
       "    </tr>\n",
       "  </thead>\n",
       "  <tbody>\n",
       "    <tr>\n",
       "      <th>0</th>\n",
       "      <td>261.0</td>\n",
       "      <td>2017-07-21</td>\n",
       "      <td>1316.0</td>\n",
       "      <td>3.0</td>\n",
       "      <td>2.0</td>\n",
       "      <td>205123.0</td>\n",
       "      <td>2627.48</td>\n",
       "      <td>6037.0</td>\n",
       "    </tr>\n",
       "    <tr>\n",
       "      <th>1</th>\n",
       "      <td>261.0</td>\n",
       "      <td>2017-06-23</td>\n",
       "      <td>1458.0</td>\n",
       "      <td>3.0</td>\n",
       "      <td>2.0</td>\n",
       "      <td>136104.0</td>\n",
       "      <td>2319.90</td>\n",
       "      <td>6037.0</td>\n",
       "    </tr>\n",
       "    <tr>\n",
       "      <th>2</th>\n",
       "      <td>261.0</td>\n",
       "      <td>2017-06-30</td>\n",
       "      <td>1421.0</td>\n",
       "      <td>2.0</td>\n",
       "      <td>1.0</td>\n",
       "      <td>35606.0</td>\n",
       "      <td>543.69</td>\n",
       "      <td>6037.0</td>\n",
       "    </tr>\n",
       "    <tr>\n",
       "      <th>3</th>\n",
       "      <td>261.0</td>\n",
       "      <td>2017-06-01</td>\n",
       "      <td>2541.0</td>\n",
       "      <td>4.0</td>\n",
       "      <td>3.0</td>\n",
       "      <td>880456.0</td>\n",
       "      <td>9819.72</td>\n",
       "      <td>6059.0</td>\n",
       "    </tr>\n",
       "    <tr>\n",
       "      <th>4</th>\n",
       "      <td>261.0</td>\n",
       "      <td>2017-08-23</td>\n",
       "      <td>1491.0</td>\n",
       "      <td>3.0</td>\n",
       "      <td>2.0</td>\n",
       "      <td>107110.0</td>\n",
       "      <td>1399.27</td>\n",
       "      <td>6037.0</td>\n",
       "    </tr>\n",
       "    <tr>\n",
       "      <th>...</th>\n",
       "      <td>...</td>\n",
       "      <td>...</td>\n",
       "      <td>...</td>\n",
       "      <td>...</td>\n",
       "      <td>...</td>\n",
       "      <td>...</td>\n",
       "      <td>...</td>\n",
       "      <td>...</td>\n",
       "    </tr>\n",
       "    <tr>\n",
       "      <th>28414</th>\n",
       "      <td>261.0</td>\n",
       "      <td>2017-08-31</td>\n",
       "      <td>1187.0</td>\n",
       "      <td>4.0</td>\n",
       "      <td>1.5</td>\n",
       "      <td>465999.0</td>\n",
       "      <td>5552.68</td>\n",
       "      <td>6059.0</td>\n",
       "    </tr>\n",
       "    <tr>\n",
       "      <th>28415</th>\n",
       "      <td>261.0</td>\n",
       "      <td>2017-08-31</td>\n",
       "      <td>3015.0</td>\n",
       "      <td>5.0</td>\n",
       "      <td>3.0</td>\n",
       "      <td>852813.0</td>\n",
       "      <td>11662.88</td>\n",
       "      <td>6059.0</td>\n",
       "    </tr>\n",
       "    <tr>\n",
       "      <th>28416</th>\n",
       "      <td>261.0</td>\n",
       "      <td>2017-08-31</td>\n",
       "      <td>2992.0</td>\n",
       "      <td>5.0</td>\n",
       "      <td>3.0</td>\n",
       "      <td>1120000.0</td>\n",
       "      <td>13663.03</td>\n",
       "      <td>6037.0</td>\n",
       "    </tr>\n",
       "    <tr>\n",
       "      <th>28417</th>\n",
       "      <td>261.0</td>\n",
       "      <td>2017-08-31</td>\n",
       "      <td>1574.0</td>\n",
       "      <td>3.0</td>\n",
       "      <td>3.0</td>\n",
       "      <td>563463.0</td>\n",
       "      <td>6903.66</td>\n",
       "      <td>6037.0</td>\n",
       "    </tr>\n",
       "    <tr>\n",
       "      <th>28418</th>\n",
       "      <td>261.0</td>\n",
       "      <td>2018-05-25</td>\n",
       "      <td>1050.0</td>\n",
       "      <td>3.0</td>\n",
       "      <td>2.0</td>\n",
       "      <td>259334.0</td>\n",
       "      <td>3345.78</td>\n",
       "      <td>6037.0</td>\n",
       "    </tr>\n",
       "  </tbody>\n",
       "</table>\n",
       "<p>28419 rows × 8 columns</p>\n",
       "</div>"
      ],
      "text/plain": [
       "       propertylandusetypeid transactiondate  calculatedfinishedsquarefeet  \\\n",
       "0                      261.0      2017-07-21                        1316.0   \n",
       "1                      261.0      2017-06-23                        1458.0   \n",
       "2                      261.0      2017-06-30                        1421.0   \n",
       "3                      261.0      2017-06-01                        2541.0   \n",
       "4                      261.0      2017-08-23                        1491.0   \n",
       "...                      ...             ...                           ...   \n",
       "28414                  261.0      2017-08-31                        1187.0   \n",
       "28415                  261.0      2017-08-31                        3015.0   \n",
       "28416                  261.0      2017-08-31                        2992.0   \n",
       "28417                  261.0      2017-08-31                        1574.0   \n",
       "28418                  261.0      2018-05-25                        1050.0   \n",
       "\n",
       "       bedroomcnt  bathroomcnt  taxvaluedollarcnt  taxamount    fips  \n",
       "0             3.0          2.0           205123.0    2627.48  6037.0  \n",
       "1             3.0          2.0           136104.0    2319.90  6037.0  \n",
       "2             2.0          1.0            35606.0     543.69  6037.0  \n",
       "3             4.0          3.0           880456.0    9819.72  6059.0  \n",
       "4             3.0          2.0           107110.0    1399.27  6037.0  \n",
       "...           ...          ...                ...        ...     ...  \n",
       "28414         4.0          1.5           465999.0    5552.68  6059.0  \n",
       "28415         5.0          3.0           852813.0   11662.88  6059.0  \n",
       "28416         5.0          3.0          1120000.0   13663.03  6037.0  \n",
       "28417         3.0          3.0           563463.0    6903.66  6037.0  \n",
       "28418         3.0          2.0           259334.0    3345.78  6037.0  \n",
       "\n",
       "[28419 rows x 8 columns]"
      ]
     },
     "execution_count": 3,
     "metadata": {},
     "output_type": "execute_result"
    }
   ],
   "source": [
    "df"
   ]
  },
  {
   "cell_type": "code",
   "execution_count": 5,
   "metadata": {},
   "outputs": [
    {
     "data": {
      "image/png": "[encoded data removed]",
      "text/plain": [
       "<Figure size 432x288 with 1 Axes>"
      ]
     },
     "metadata": {
      "needs_background": "light"
     },
     "output_type": "display_data"
    }
   ],
   "source": [
    "df.taxvaluedollarcnt.hist()\n",
    "plt.show()"
   ]
  },
  {
   "cell_type": "code",
   "execution_count": 6,
   "metadata": {},
   "outputs": [
    {
     "data": {
      "text/plain": [
       "propertylandusetypeid            0\n",
       "transactiondate                  0\n",
       "calculatedfinishedsquarefeet    73\n",
       "bedroomcnt                       0\n",
       "bathroomcnt                      0\n",
       "taxvaluedollarcnt                1\n",
       "taxamount                        1\n",
       "fips                             0\n",
       "dtype: int64"
      ]
     },
     "execution_count": 6,
     "metadata": {},
     "output_type": "execute_result"
    }
   ],
   "source": [
    "df.isnull().sum()"
   ]
  },
  {
   "cell_type": "code",
   "execution_count": 7,
   "metadata": {},
   "outputs": [
    {
     "name": "stdout",
     "output_type": "stream",
     "text": [
      "<class 'pandas.core.frame.DataFrame'>\n",
      "RangeIndex: 28419 entries, 0 to 28418\n",
      "Data columns (total 8 columns):\n",
      " #   Column                        Non-Null Count  Dtype  \n",
      "---  ------                        --------------  -----  \n",
      " 0   propertylandusetypeid         28419 non-null  float64\n",
      " 1   transactiondate               28419 non-null  object \n",
      " 2   calculatedfinishedsquarefeet  28346 non-null  float64\n",
      " 3   bedroomcnt                    28419 non-null  float64\n",
      " 4   bathroomcnt                   28419 non-null  float64\n",
      " 5   taxvaluedollarcnt             28418 non-null  float64\n",
      " 6   taxamount                     28418 non-null  float64\n",
      " 7   fips                          28419 non-null  float64\n",
      "dtypes: float64(7), object(1)\n",
      "memory usage: 1.7+ MB\n"
     ]
    }
   ],
   "source": [
    "df.info()"
   ]
  },
  {
   "cell_type": "markdown",
   "metadata": {},
   "source": [
    "### Prep the data"
   ]
  },
  {
   "cell_type": "code",
   "execution_count": 8,
   "metadata": {},
   "outputs": [],
   "source": [
    "df = prep_zillow_data(df)"
   ]
  },
  {
   "cell_type": "code",
   "execution_count": 9,
   "metadata": {},
   "outputs": [],
   "source": [
    "# Remove nulls from calculatedsquarefeet\n",
    "df.loc[df['calculatedfinishedsquarefeet'].isin(['NaN'])].head()\n",
    "indexsize = df.loc[df['calculatedfinishedsquarefeet'].isin(['NaN'])].index\n",
    "df.drop(indexsize, inplace=True)"
   ]
  },
  {
   "cell_type": "code",
   "execution_count": 10,
   "metadata": {},
   "outputs": [],
   "source": [
    "# Remove nulls from taxvaluedollarcnt\n",
    "df.loc[df['taxvaluedollarcnt'].isin(['NaN'])].head()\n",
    "indexsize = df.loc[df['taxvaluedollarcnt'].isin(['NaN'])].index\n",
    "df.drop(indexsize, inplace=True)"
   ]
  },
  {
   "cell_type": "code",
   "execution_count": 11,
   "metadata": {},
   "outputs": [],
   "source": [
    "# Remove nulls from taxamount\n",
    "df.loc[df['taxamount'].isin(['NaN'])].head()\n",
    "indexsize = df.loc[df['taxamount'].isin(['NaN'])].index\n",
    "df.drop(indexsize, inplace=True)"
   ]
  },
  {
   "cell_type": "code",
   "execution_count": 12,
   "metadata": {},
   "outputs": [
    {
     "data": {
      "text/plain": [
       "(28344, 8)"
      ]
     },
     "execution_count": 12,
     "metadata": {},
     "output_type": "execute_result"
    }
   ],
   "source": [
    "df.shape"
   ]
  },
  {
   "cell_type": "code",
   "execution_count": 13,
   "metadata": {},
   "outputs": [
    {
     "name": "stdout",
     "output_type": "stream",
     "text": [
      "<class 'pandas.core.frame.DataFrame'>\n",
      "Int64Index: 28344 entries, 0 to 28418\n",
      "Data columns (total 8 columns):\n",
      " #   Column                        Non-Null Count  Dtype  \n",
      "---  ------                        --------------  -----  \n",
      " 0   propertylandusetypeid         28344 non-null  float64\n",
      " 1   transactiondate               28344 non-null  object \n",
      " 2   calculatedfinishedsquarefeet  28344 non-null  float64\n",
      " 3   bedroomcnt                    28344 non-null  float64\n",
      " 4   bathroomcnt                   28344 non-null  float64\n",
      " 5   taxvaluedollarcnt             28344 non-null  float64\n",
      " 6   taxamount                     28344 non-null  float64\n",
      " 7   fips                          28344 non-null  float64\n",
      "dtypes: float64(7), object(1)\n",
      "memory usage: 3.2+ MB\n"
     ]
    }
   ],
   "source": [
    "df.info()"
   ]
  },
  {
   "cell_type": "code",
   "execution_count": 14,
   "metadata": {},
   "outputs": [],
   "source": [
    "# Rename the columns into something more readable\n",
    "df = df.rename(columns={'propertylandusetypeid': 'land_use_typeid', 'bathroomcnt': 'num_bathrooms', 'bedroomcnt': 'num_bedrooms',\n",
    "                       'calculatedfinishedsquarefeet': 'square_feet', 'taxvaluedollarcnt': 'appraised_value', 'taxamount': 'taxes'})"
   ]
  },
  {
   "cell_type": "markdown",
   "metadata": {},
   "source": [
    "### Explore the Data"
   ]
  },
  {
   "cell_type": "code",
   "execution_count": 45,
   "metadata": {},
   "outputs": [
    {
     "data": {
      "text/plain": [
       "count    28344.000000\n",
       "mean      1931.810965\n",
       "std       1013.662251\n",
       "min        240.000000\n",
       "25%       1276.000000\n",
       "50%       1669.000000\n",
       "75%       2319.000000\n",
       "max      35640.000000\n",
       "Name: square_feet, dtype: float64"
      ]
     },
     "execution_count": 45,
     "metadata": {},
     "output_type": "execute_result"
    }
   ],
   "source": [
    "df.square_feet.describe()"
   ]
  },
  {
   "cell_type": "code",
   "execution_count": 46,
   "metadata": {},
   "outputs": [
    {
     "data": {
      "image/png": "[encoded data removed]",
      "text/plain": [
       "<Figure size 432x288 with 1 Axes>"
      ]
     },
     "metadata": {
      "needs_background": "light"
     },
     "output_type": "display_data"
    }
   ],
   "source": [
    "sns.boxplot(data=df.square_feet)\n",
    "plt.title('Distribution of sq ft')\n",
    "plt.show()"
   ]
  },
  {
   "cell_type": "code",
   "execution_count": 47,
   "metadata": {},
   "outputs": [
    {
     "data": {
      "image/png": "[encoded data removed]",
      "text/plain": [
       "<Figure size 432x288 with 1 Axes>"
      ]
     },
     "metadata": {
      "needs_background": "light"
     },
     "output_type": "display_data"
    }
   ],
   "source": [
    "sns.boxplot(data=df.num_bedrooms)\n",
    "plt.title('Distribution of number of bedrooms')\n",
    "plt.show()"
   ]
  },
  {
   "cell_type": "code",
   "execution_count": 48,
   "metadata": {},
   "outputs": [
    {
     "data": {
      "image/png": "[encoded data removed]",
      "text/plain": [
       "<Figure size 432x288 with 1 Axes>"
      ]
     },
     "metadata": {
      "needs_background": "light"
     },
     "output_type": "display_data"
    }
   ],
   "source": [
    "sns.boxplot(data=df.num_bathrooms)\n",
    "plt.title('Distribution of number of bathrooms')\n",
    "plt.show()"
   ]
  },
  {
   "cell_type": "code",
   "execution_count": 49,
   "metadata": {},
   "outputs": [
    {
     "name": "stdout",
     "output_type": "stream",
     "text": [
      "For num_bedrooms the lower bound is 1.5 and  upper bound is 5.5\n"
     ]
    }
   ],
   "source": [
    "df = outlier_calculation(df, 'num_bedrooms')"
   ]
  },
  {
   "cell_type": "code",
   "execution_count": 50,
   "metadata": {},
   "outputs": [
    {
     "data": {
      "image/png": "[encoded data removed]",
      "text/plain": [
       "<Figure size 432x288 with 1 Axes>"
      ]
     },
     "metadata": {
      "needs_background": "light"
     },
     "output_type": "display_data"
    }
   ],
   "source": [
    "sns.boxplot(data=df.num_bedrooms)\n",
    "plt.title('Distribution of number of bedrooms')\n",
    "plt.show()"
   ]
  },
  {
   "cell_type": "code",
   "execution_count": 51,
   "metadata": {},
   "outputs": [
    {
     "name": "stdout",
     "output_type": "stream",
     "text": [
      "For num_bathrooms the lower bound is 0.5 and  upper bound is 4.5\n"
     ]
    }
   ],
   "source": [
    "df = outlier_calculation(df, 'num_bathrooms')"
   ]
  },
  {
   "cell_type": "code",
   "execution_count": 52,
   "metadata": {},
   "outputs": [
    {
     "data": {
      "image/png": "[encoded data removed]",
      "text/plain": [
       "<Figure size 432x288 with 1 Axes>"
      ]
     },
     "metadata": {
      "needs_background": "light"
     },
     "output_type": "display_data"
    }
   ],
   "source": [
    "sns.boxplot(data=df.num_bathrooms)\n",
    "plt.title('Distribution of number of bathrooms')\n",
    "plt.show()"
   ]
  },
  {
   "cell_type": "code",
   "execution_count": 53,
   "metadata": {},
   "outputs": [
    {
     "name": "stdout",
     "output_type": "stream",
     "text": [
      "For square_feet the lower bound is -115.5 and  upper bound is 3576.5\n"
     ]
    }
   ],
   "source": [
    "df = outlier_calculation(df, 'square_feet')"
   ]
  },
  {
   "cell_type": "code",
   "execution_count": 54,
   "metadata": {},
   "outputs": [
    {
     "data": {
      "image/png": "[encoded data removed]",
      "text/plain": [
       "<Figure size 432x288 with 1 Axes>"
      ]
     },
     "metadata": {
      "needs_background": "light"
     },
     "output_type": "display_data"
    }
   ],
   "source": [
    "sns.boxplot(data=df.square_feet)\n",
    "plt.title('Distribution of square_feet')\n",
    "plt.show()"
   ]
  },
  {
   "cell_type": "code",
   "execution_count": 55,
   "metadata": {},
   "outputs": [
    {
     "name": "stdout",
     "output_type": "stream",
     "text": [
      "<class 'pandas.core.frame.DataFrame'>\n",
      "Int64Index: 25880 entries, 0 to 28418\n",
      "Data columns (total 10 columns):\n",
      " #   Column           Non-Null Count  Dtype  \n",
      "---  ------           --------------  -----  \n",
      " 0   land_use_typeid  25880 non-null  float64\n",
      " 1   transactiondate  25880 non-null  object \n",
      " 2   square_feet      25880 non-null  float64\n",
      " 3   num_bedrooms     25880 non-null  float64\n",
      " 4   num_bathrooms    25880 non-null  float64\n",
      " 5   appraised_value  25880 non-null  float64\n",
      " 6   taxes            25880 non-null  float64\n",
      " 7   fips             25880 non-null  float64\n",
      " 8   tax_rate         25880 non-null  float64\n",
      " 9   county_name      25880 non-null  object \n",
      "dtypes: float64(8), object(2)\n",
      "memory usage: 3.4+ MB\n"
     ]
    }
   ],
   "source": [
    "df.info()"
   ]
  },
  {
   "cell_type": "code",
   "execution_count": 56,
   "metadata": {},
   "outputs": [
    {
     "data": {
      "image/png": "[encoded data removed]",
      "text/plain": [
       "<Figure size 432x288 with 1 Axes>"
      ]
     },
     "metadata": {
      "needs_background": "light"
     },
     "output_type": "display_data"
    }
   ],
   "source": [
    "# Plot with outliers removed\n",
    "sns.boxplot(data=df.square_feet)\n",
    "plt.title('Distribution of sq ft')\n",
    "plt.show()"
   ]
  },
  {
   "cell_type": "code",
   "execution_count": 57,
   "metadata": {},
   "outputs": [
    {
     "data": {
      "image/png": "[encoded data removed]",
      "text/plain": [
       "<Figure size 432x288 with 1 Axes>"
      ]
     },
     "metadata": {
      "needs_background": "light"
     },
     "output_type": "display_data"
    }
   ],
   "source": [
    "sns.boxplot(data=df.appraised_value)\n",
    "plt.title('Distribution of appraised value')\n",
    "plt.show()"
   ]
  },
  {
   "cell_type": "code",
   "execution_count": 96,
   "metadata": {},
   "outputs": [
    {
     "data": {
      "image/png": "[encoded data removed]",
      "text/plain": [
       "<Figure size 432x288 with 1 Axes>"
      ]
     },
     "metadata": {
      "needs_background": "light"
     },
     "output_type": "display_data"
    }
   ],
   "source": [
    "df.appraised_value.hist()\n",
    "\n",
    "plt.show()"
   ]
  },
  {
   "cell_type": "code",
   "execution_count": 59,
   "metadata": {},
   "outputs": [
    {
     "data": {
      "text/plain": [
       "2017-07-09      1\n",
       "2017-06-11      1\n",
       "2017-07-08      1\n",
       "2017-05-07      1\n",
       "2017-08-12      1\n",
       "             ... \n",
       "2017-05-26    469\n",
       "2017-08-31    483\n",
       "2017-07-28    514\n",
       "2017-05-31    527\n",
       "2017-06-30    740\n",
       "Name: transactiondate, Length: 118, dtype: int64"
      ]
     },
     "execution_count": 59,
     "metadata": {},
     "output_type": "execute_result"
    }
   ],
   "source": [
    "df.transactiondate.value_counts(dropna=False, ascending=True)"
   ]
  },
  {
   "cell_type": "code",
   "execution_count": 60,
   "metadata": {},
   "outputs": [
    {
     "name": "stdout",
     "output_type": "stream",
     "text": [
      "<class 'pandas.core.frame.DataFrame'>\n",
      "Int64Index: 25880 entries, 0 to 28418\n",
      "Data columns (total 10 columns):\n",
      " #   Column           Non-Null Count  Dtype  \n",
      "---  ------           --------------  -----  \n",
      " 0   land_use_typeid  25880 non-null  float64\n",
      " 1   transactiondate  25880 non-null  object \n",
      " 2   square_feet      25880 non-null  float64\n",
      " 3   num_bedrooms     25880 non-null  float64\n",
      " 4   num_bathrooms    25880 non-null  float64\n",
      " 5   appraised_value  25880 non-null  float64\n",
      " 6   taxes            25880 non-null  float64\n",
      " 7   fips             25880 non-null  float64\n",
      " 8   tax_rate         25880 non-null  float64\n",
      " 9   county_name      25880 non-null  object \n",
      "dtypes: float64(8), object(2)\n",
      "memory usage: 3.4+ MB\n"
     ]
    }
   ],
   "source": [
    "df.info()"
   ]
  },
  {
   "cell_type": "code",
   "execution_count": 61,
   "metadata": {},
   "outputs": [],
   "source": [
    "# Drop the columns not needed for modeling\n",
    "df1 = df.drop(columns=['transactiondate', 'land_use_typeid', 'taxes', 'fips', 'county_name'])"
   ]
  },
  {
   "cell_type": "code",
   "execution_count": 62,
   "metadata": {},
   "outputs": [
    {
     "data": {
      "text/html": [
       "<div>\n",
       "<style scoped>\n",
       "    .dataframe tbody tr th:only-of-type {\n",
       "        vertical-align: middle;\n",
       "    }\n",
       "\n",
       "    .dataframe tbody tr th {\n",
       "        vertical-align: top;\n",
       "    }\n",
       "\n",
       "    .dataframe thead th {\n",
       "        text-align: right;\n",
       "    }\n",
       "</style>\n",
       "<table border=\"1\" class=\"dataframe\">\n",
       "  <thead>\n",
       "    <tr style=\"text-align: right;\">\n",
       "      <th></th>\n",
       "      <th>square_feet</th>\n",
       "      <th>num_bedrooms</th>\n",
       "      <th>num_bathrooms</th>\n",
       "      <th>appraised_value</th>\n",
       "      <th>tax_rate</th>\n",
       "    </tr>\n",
       "  </thead>\n",
       "  <tbody>\n",
       "    <tr>\n",
       "      <th>0</th>\n",
       "      <td>1316.0</td>\n",
       "      <td>3.0</td>\n",
       "      <td>2.0</td>\n",
       "      <td>205123.0</td>\n",
       "      <td>1.28</td>\n",
       "    </tr>\n",
       "    <tr>\n",
       "      <th>1</th>\n",
       "      <td>1458.0</td>\n",
       "      <td>3.0</td>\n",
       "      <td>2.0</td>\n",
       "      <td>136104.0</td>\n",
       "      <td>1.70</td>\n",
       "    </tr>\n",
       "    <tr>\n",
       "      <th>2</th>\n",
       "      <td>1421.0</td>\n",
       "      <td>2.0</td>\n",
       "      <td>1.0</td>\n",
       "      <td>35606.0</td>\n",
       "      <td>1.53</td>\n",
       "    </tr>\n",
       "    <tr>\n",
       "      <th>3</th>\n",
       "      <td>2541.0</td>\n",
       "      <td>4.0</td>\n",
       "      <td>3.0</td>\n",
       "      <td>880456.0</td>\n",
       "      <td>1.12</td>\n",
       "    </tr>\n",
       "    <tr>\n",
       "      <th>4</th>\n",
       "      <td>1491.0</td>\n",
       "      <td>3.0</td>\n",
       "      <td>2.0</td>\n",
       "      <td>107110.0</td>\n",
       "      <td>1.31</td>\n",
       "    </tr>\n",
       "    <tr>\n",
       "      <th>...</th>\n",
       "      <td>...</td>\n",
       "      <td>...</td>\n",
       "      <td>...</td>\n",
       "      <td>...</td>\n",
       "      <td>...</td>\n",
       "    </tr>\n",
       "    <tr>\n",
       "      <th>28414</th>\n",
       "      <td>1187.0</td>\n",
       "      <td>4.0</td>\n",
       "      <td>1.5</td>\n",
       "      <td>465999.0</td>\n",
       "      <td>1.19</td>\n",
       "    </tr>\n",
       "    <tr>\n",
       "      <th>28415</th>\n",
       "      <td>3015.0</td>\n",
       "      <td>5.0</td>\n",
       "      <td>3.0</td>\n",
       "      <td>852813.0</td>\n",
       "      <td>1.37</td>\n",
       "    </tr>\n",
       "    <tr>\n",
       "      <th>28416</th>\n",
       "      <td>2992.0</td>\n",
       "      <td>5.0</td>\n",
       "      <td>3.0</td>\n",
       "      <td>1120000.0</td>\n",
       "      <td>1.22</td>\n",
       "    </tr>\n",
       "    <tr>\n",
       "      <th>28417</th>\n",
       "      <td>1574.0</td>\n",
       "      <td>3.0</td>\n",
       "      <td>3.0</td>\n",
       "      <td>563463.0</td>\n",
       "      <td>1.23</td>\n",
       "    </tr>\n",
       "    <tr>\n",
       "      <th>28418</th>\n",
       "      <td>1050.0</td>\n",
       "      <td>3.0</td>\n",
       "      <td>2.0</td>\n",
       "      <td>259334.0</td>\n",
       "      <td>1.29</td>\n",
       "    </tr>\n",
       "  </tbody>\n",
       "</table>\n",
       "<p>25880 rows × 5 columns</p>\n",
       "</div>"
      ],
      "text/plain": [
       "       square_feet  num_bedrooms  num_bathrooms  appraised_value  tax_rate\n",
       "0           1316.0           3.0            2.0         205123.0      1.28\n",
       "1           1458.0           3.0            2.0         136104.0      1.70\n",
       "2           1421.0           2.0            1.0          35606.0      1.53\n",
       "3           2541.0           4.0            3.0         880456.0      1.12\n",
       "4           1491.0           3.0            2.0         107110.0      1.31\n",
       "...            ...           ...            ...              ...       ...\n",
       "28414       1187.0           4.0            1.5         465999.0      1.19\n",
       "28415       3015.0           5.0            3.0         852813.0      1.37\n",
       "28416       2992.0           5.0            3.0        1120000.0      1.22\n",
       "28417       1574.0           3.0            3.0         563463.0      1.23\n",
       "28418       1050.0           3.0            2.0         259334.0      1.29\n",
       "\n",
       "[25880 rows x 5 columns]"
      ]
     },
     "execution_count": 62,
     "metadata": {},
     "output_type": "execute_result"
    }
   ],
   "source": [
    "df1\n"
   ]
  },
  {
   "cell_type": "markdown",
   "metadata": {},
   "source": [
    "#### Split the data"
   ]
  },
  {
   "cell_type": "code",
   "execution_count": 63,
   "metadata": {},
   "outputs": [],
   "source": [
    "train, validate, test, X_train, y_train, X_validate, y_validate, X_test, y_test = train_validate_test(df1, 'appraised_value')"
   ]
  },
  {
   "cell_type": "code",
   "execution_count": 64,
   "metadata": {},
   "outputs": [
    {
     "data": {
      "text/plain": [
       "22794    772507.0\n",
       "15997    416091.0\n",
       "20568     49454.0\n",
       "6296     207362.0\n",
       "25689    469585.0\n",
       "           ...   \n",
       "20211    253750.0\n",
       "12750    100841.0\n",
       "24975     84881.0\n",
       "3409     100580.0\n",
       "10077    783227.0\n",
       "Name: appraised_value, Length: 14492, dtype: float64"
      ]
     },
     "execution_count": 64,
     "metadata": {},
     "output_type": "execute_result"
    }
   ],
   "source": [
    "y_train"
   ]
  },
  {
   "cell_type": "code",
   "execution_count": 65,
   "metadata": {},
   "outputs": [
    {
     "data": {
      "text/plain": [
       "((14492, 5), (6212, 5), (5176, 5))"
      ]
     },
     "execution_count": 65,
     "metadata": {},
     "output_type": "execute_result"
    }
   ],
   "source": [
    "train.shape, validate.shape, test.shape"
   ]
  },
  {
   "cell_type": "code",
   "execution_count": 66,
   "metadata": {},
   "outputs": [
    {
     "data": {
      "text/html": [
       "<div>\n",
       "<style scoped>\n",
       "    .dataframe tbody tr th:only-of-type {\n",
       "        vertical-align: middle;\n",
       "    }\n",
       "\n",
       "    .dataframe tbody tr th {\n",
       "        vertical-align: top;\n",
       "    }\n",
       "\n",
       "    .dataframe thead th {\n",
       "        text-align: right;\n",
       "    }\n",
       "</style>\n",
       "<table border=\"1\" class=\"dataframe\">\n",
       "  <thead>\n",
       "    <tr style=\"text-align: right;\">\n",
       "      <th></th>\n",
       "      <th>square_feet</th>\n",
       "      <th>num_bedrooms</th>\n",
       "      <th>num_bathrooms</th>\n",
       "      <th>appraised_value</th>\n",
       "      <th>tax_rate</th>\n",
       "    </tr>\n",
       "  </thead>\n",
       "  <tbody>\n",
       "    <tr>\n",
       "      <th>22794</th>\n",
       "      <td>2384.0</td>\n",
       "      <td>3.0</td>\n",
       "      <td>3.0</td>\n",
       "      <td>772507.0</td>\n",
       "      <td>1.17</td>\n",
       "    </tr>\n",
       "    <tr>\n",
       "      <th>15997</th>\n",
       "      <td>1480.0</td>\n",
       "      <td>3.0</td>\n",
       "      <td>2.0</td>\n",
       "      <td>416091.0</td>\n",
       "      <td>1.23</td>\n",
       "    </tr>\n",
       "    <tr>\n",
       "      <th>20568</th>\n",
       "      <td>1247.0</td>\n",
       "      <td>3.0</td>\n",
       "      <td>1.0</td>\n",
       "      <td>49454.0</td>\n",
       "      <td>1.95</td>\n",
       "    </tr>\n",
       "    <tr>\n",
       "      <th>6296</th>\n",
       "      <td>2169.0</td>\n",
       "      <td>4.0</td>\n",
       "      <td>3.5</td>\n",
       "      <td>207362.0</td>\n",
       "      <td>1.23</td>\n",
       "    </tr>\n",
       "    <tr>\n",
       "      <th>25689</th>\n",
       "      <td>2044.0</td>\n",
       "      <td>3.0</td>\n",
       "      <td>2.5</td>\n",
       "      <td>469585.0</td>\n",
       "      <td>1.56</td>\n",
       "    </tr>\n",
       "  </tbody>\n",
       "</table>\n",
       "</div>"
      ],
      "text/plain": [
       "       square_feet  num_bedrooms  num_bathrooms  appraised_value  tax_rate\n",
       "22794       2384.0           3.0            3.0         772507.0      1.17\n",
       "15997       1480.0           3.0            2.0         416091.0      1.23\n",
       "20568       1247.0           3.0            1.0          49454.0      1.95\n",
       "6296        2169.0           4.0            3.5         207362.0      1.23\n",
       "25689       2044.0           3.0            2.5         469585.0      1.56"
      ]
     },
     "execution_count": 66,
     "metadata": {},
     "output_type": "execute_result"
    }
   ],
   "source": [
    "train.head()"
   ]
  },
  {
   "cell_type": "markdown",
   "metadata": {},
   "source": [
    "#### Scale the data"
   ]
  },
  {
   "cell_type": "code",
   "execution_count": 67,
   "metadata": {},
   "outputs": [],
   "source": [
    "scaler, X_train_scaled, X_validate_scaled, X_test_scaled = Min_Max_Scaler(X_train, X_validate, X_test)"
   ]
  },
  {
   "cell_type": "code",
   "execution_count": 68,
   "metadata": {},
   "outputs": [
    {
     "data": {
      "text/html": [
       "<div>\n",
       "<style scoped>\n",
       "    .dataframe tbody tr th:only-of-type {\n",
       "        vertical-align: middle;\n",
       "    }\n",
       "\n",
       "    .dataframe tbody tr th {\n",
       "        vertical-align: top;\n",
       "    }\n",
       "\n",
       "    .dataframe thead th {\n",
       "        text-align: right;\n",
       "    }\n",
       "</style>\n",
       "<table border=\"1\" class=\"dataframe\">\n",
       "  <thead>\n",
       "    <tr style=\"text-align: right;\">\n",
       "      <th></th>\n",
       "      <th>square_feet</th>\n",
       "      <th>num_bedrooms</th>\n",
       "      <th>num_bathrooms</th>\n",
       "      <th>tax_rate</th>\n",
       "    </tr>\n",
       "  </thead>\n",
       "  <tbody>\n",
       "    <tr>\n",
       "      <th>22794</th>\n",
       "      <td>0.633231</td>\n",
       "      <td>0.333333</td>\n",
       "      <td>0.666667</td>\n",
       "      <td>0.013484</td>\n",
       "    </tr>\n",
       "    <tr>\n",
       "      <th>15997</th>\n",
       "      <td>0.355077</td>\n",
       "      <td>0.333333</td>\n",
       "      <td>0.333333</td>\n",
       "      <td>0.014219</td>\n",
       "    </tr>\n",
       "    <tr>\n",
       "      <th>20568</th>\n",
       "      <td>0.283385</td>\n",
       "      <td>0.333333</td>\n",
       "      <td>0.000000</td>\n",
       "      <td>0.023045</td>\n",
       "    </tr>\n",
       "    <tr>\n",
       "      <th>6296</th>\n",
       "      <td>0.567077</td>\n",
       "      <td>0.666667</td>\n",
       "      <td>0.833333</td>\n",
       "      <td>0.014219</td>\n",
       "    </tr>\n",
       "    <tr>\n",
       "      <th>25689</th>\n",
       "      <td>0.528615</td>\n",
       "      <td>0.333333</td>\n",
       "      <td>0.500000</td>\n",
       "      <td>0.018264</td>\n",
       "    </tr>\n",
       "    <tr>\n",
       "      <th>...</th>\n",
       "      <td>...</td>\n",
       "      <td>...</td>\n",
       "      <td>...</td>\n",
       "      <td>...</td>\n",
       "    </tr>\n",
       "    <tr>\n",
       "      <th>20211</th>\n",
       "      <td>0.676615</td>\n",
       "      <td>0.333333</td>\n",
       "      <td>0.333333</td>\n",
       "      <td>0.007232</td>\n",
       "    </tr>\n",
       "    <tr>\n",
       "      <th>12750</th>\n",
       "      <td>0.533846</td>\n",
       "      <td>0.666667</td>\n",
       "      <td>0.666667</td>\n",
       "      <td>0.015813</td>\n",
       "    </tr>\n",
       "    <tr>\n",
       "      <th>24975</th>\n",
       "      <td>0.313231</td>\n",
       "      <td>0.333333</td>\n",
       "      <td>0.333333</td>\n",
       "      <td>0.026477</td>\n",
       "    </tr>\n",
       "    <tr>\n",
       "      <th>3409</th>\n",
       "      <td>0.560615</td>\n",
       "      <td>0.666667</td>\n",
       "      <td>0.333333</td>\n",
       "      <td>0.015690</td>\n",
       "    </tr>\n",
       "    <tr>\n",
       "      <th>10077</th>\n",
       "      <td>0.812923</td>\n",
       "      <td>1.000000</td>\n",
       "      <td>1.000000</td>\n",
       "      <td>0.017529</td>\n",
       "    </tr>\n",
       "  </tbody>\n",
       "</table>\n",
       "<p>14492 rows × 4 columns</p>\n",
       "</div>"
      ],
      "text/plain": [
       "       square_feet  num_bedrooms  num_bathrooms  tax_rate\n",
       "22794     0.633231      0.333333       0.666667  0.013484\n",
       "15997     0.355077      0.333333       0.333333  0.014219\n",
       "20568     0.283385      0.333333       0.000000  0.023045\n",
       "6296      0.567077      0.666667       0.833333  0.014219\n",
       "25689     0.528615      0.333333       0.500000  0.018264\n",
       "...            ...           ...            ...       ...\n",
       "20211     0.676615      0.333333       0.333333  0.007232\n",
       "12750     0.533846      0.666667       0.666667  0.015813\n",
       "24975     0.313231      0.333333       0.333333  0.026477\n",
       "3409      0.560615      0.666667       0.333333  0.015690\n",
       "10077     0.812923      1.000000       1.000000  0.017529\n",
       "\n",
       "[14492 rows x 4 columns]"
      ]
     },
     "execution_count": 68,
     "metadata": {},
     "output_type": "execute_result"
    }
   ],
   "source": [
    "X_train_scaled"
   ]
  },
  {
   "cell_type": "code",
   "execution_count": 69,
   "metadata": {},
   "outputs": [
    {
     "data": {
      "text/plain": [
       "<seaborn.axisgrid.PairGrid at 0x7fb2f7dfbc70>"
      ]
     },
     "execution_count": 69,
     "metadata": {},
     "output_type": "execute_result"
    },
    {
     "data": {
      "image/png": "[encoded data removed]",
      "text/plain": [
       "<Figure size 900x900 with 20 Axes>"
      ]
     },
     "metadata": {
      "needs_background": "light"
     },
     "output_type": "display_data"
    }
   ],
   "source": [
    "# Plot the pairs\n",
    "sns.pairplot(train, kind = 'reg', corner=True, plot_kws = {'line_kws': {'color': 'blue'}})"
   ]
  },
  {
   "cell_type": "code",
   "execution_count": 70,
   "metadata": {},
   "outputs": [
    {
     "data": {
      "image/png": "[encoded data removed]",
      "text/plain": [
       "<Figure size 432x288 with 2 Axes>"
      ]
     },
     "metadata": {
      "needs_background": "light"
     },
     "output_type": "display_data"
    }
   ],
   "source": [
    "# Create a heatmap to show correlations\n",
    "sns.heatmap(train.corr(), cmap='coolwarm', center=0, annot=True)\n",
    "\n",
    "plt.title('Correlation Heatmap of Variables')\n",
    "plt.show()"
   ]
  },
  {
   "cell_type": "markdown",
   "metadata": {},
   "source": [
    "#### Takeaways"
   ]
  },
  {
   "cell_type": "markdown",
   "metadata": {},
   "source": [
    "According to the graphs above, the number of bathrooms are the most closely correlated to the appraised value followed by square feet."
   ]
  },
  {
   "cell_type": "markdown",
   "metadata": {},
   "source": [
    "#### Statistical Modeling"
   ]
  },
  {
   "cell_type": "markdown",
   "metadata": {},
   "source": [
    "Hypothesis (using pearsonr):\n",
    "    \n",
    "- $H_O$:  There is no correlation between number of bathrooms and appraised value.\n",
    "\n",
    "- $H_a$:  There is a correlation between number of bathrooms and appraised value."
   ]
  },
  {
   "cell_type": "code",
   "execution_count": 71,
   "metadata": {},
   "outputs": [
    {
     "name": "stdout",
     "output_type": "stream",
     "text": [
      "0.35204911444516673 0.0\n",
      "\n",
      "We can reject the null hypothesis.\n"
     ]
    }
   ],
   "source": [
    "corr, p = stats.pearsonr(train.num_bathrooms, train.appraised_value)\n",
    "# set alpha\n",
    "alpha = 0.05\n",
    "print(corr, p)\n",
    "\n",
    "if p < alpha:\n",
    "    print(f'\\nWe can reject the null hypothesis.')\n",
    "else:\n",
    "    print(f'\\nWe fail to reject the null hypothesis.')"
   ]
  },
  {
   "cell_type": "markdown",
   "metadata": {},
   "source": [
    "Independent T-test:"
   ]
  },
  {
   "cell_type": "markdown",
   "metadata": {},
   "source": [
    "Hypothesis (using T_test):\n",
    "    \n",
    "- $H_O$:  There is no correlation between number of bathrooms and appraised value.\n",
    "\n",
    "- $H_a$:  There is a correlation between number of bathrooms and appraised value."
   ]
  },
  {
   "cell_type": "code",
   "execution_count": 72,
   "metadata": {},
   "outputs": [],
   "source": [
    "t, p = stats.ttest_ind(train.appraised_value, train.square_feet, equal_var=False)"
   ]
  },
  {
   "cell_type": "code",
   "execution_count": 73,
   "metadata": {},
   "outputs": [
    {
     "data": {
      "text/plain": [
       "(127.09112625593218, 0.0)"
      ]
     },
     "execution_count": 73,
     "metadata": {},
     "output_type": "execute_result"
    }
   ],
   "source": [
    "t, p"
   ]
  },
  {
   "cell_type": "markdown",
   "metadata": {},
   "source": [
    "Using the same alpha as before, we can reject the null hypothesis as p < alpha."
   ]
  },
  {
   "cell_type": "markdown",
   "metadata": {},
   "source": [
    "### Modeling and Evaluation"
   ]
  },
  {
   "cell_type": "markdown",
   "metadata": {},
   "source": [
    "Establish a baseline"
   ]
  },
  {
   "cell_type": "code",
   "execution_count": 74,
   "metadata": {},
   "outputs": [],
   "source": [
    "# We need y_train and y_validate to be dataframes to append the new columns with predicted values. \n",
    "y_train = pd.DataFrame(y_train)\n",
    "y_validate = pd.DataFrame(y_validate)\n",
    "y_test = pd.DataFrame(y_test)\n",
    "X_test = pd.DataFrame(X_test)\n",
    "\n",
    "# 1. Predict taxvaluedollarcnt_pred_mean\n",
    "AV_pred_mean = y_train['appraised_value'].mean()\n",
    "y_train['AV_pred_mean'] = AV_pred_mean\n",
    "y_validate['AV_pred_mean'] = AV_pred_mean\n",
    "y_test['AV_pred_mean'] = AV_pred_mean\n",
    "\n",
    "# 2. compute taxvaluedollarcnt_pred_median\n",
    "AV_pred_median = y_train['appraised_value'].median()\n",
    "y_train['AV_pred_median'] = AV_pred_median\n",
    "y_validate['AV_pred_median'] = AV_pred_median\n",
    "y_test['AV_pred_median'] = AV_pred_median"
   ]
  },
  {
   "cell_type": "code",
   "execution_count": 75,
   "metadata": {},
   "outputs": [
    {
     "data": {
      "text/html": [
       "<div>\n",
       "<style scoped>\n",
       "    .dataframe tbody tr th:only-of-type {\n",
       "        vertical-align: middle;\n",
       "    }\n",
       "\n",
       "    .dataframe tbody tr th {\n",
       "        vertical-align: top;\n",
       "    }\n",
       "\n",
       "    .dataframe thead th {\n",
       "        text-align: right;\n",
       "    }\n",
       "</style>\n",
       "<table border=\"1\" class=\"dataframe\">\n",
       "  <thead>\n",
       "    <tr style=\"text-align: right;\">\n",
       "      <th></th>\n",
       "      <th>appraised_value</th>\n",
       "      <th>AV_pred_mean</th>\n",
       "      <th>AV_pred_median</th>\n",
       "    </tr>\n",
       "  </thead>\n",
       "  <tbody>\n",
       "    <tr>\n",
       "      <th>22794</th>\n",
       "      <td>772507.0</td>\n",
       "      <td>442223.200386</td>\n",
       "      <td>359249.5</td>\n",
       "    </tr>\n",
       "    <tr>\n",
       "      <th>15997</th>\n",
       "      <td>416091.0</td>\n",
       "      <td>442223.200386</td>\n",
       "      <td>359249.5</td>\n",
       "    </tr>\n",
       "    <tr>\n",
       "      <th>20568</th>\n",
       "      <td>49454.0</td>\n",
       "      <td>442223.200386</td>\n",
       "      <td>359249.5</td>\n",
       "    </tr>\n",
       "    <tr>\n",
       "      <th>6296</th>\n",
       "      <td>207362.0</td>\n",
       "      <td>442223.200386</td>\n",
       "      <td>359249.5</td>\n",
       "    </tr>\n",
       "    <tr>\n",
       "      <th>25689</th>\n",
       "      <td>469585.0</td>\n",
       "      <td>442223.200386</td>\n",
       "      <td>359249.5</td>\n",
       "    </tr>\n",
       "  </tbody>\n",
       "</table>\n",
       "</div>"
      ],
      "text/plain": [
       "       appraised_value   AV_pred_mean  AV_pred_median\n",
       "22794         772507.0  442223.200386        359249.5\n",
       "15997         416091.0  442223.200386        359249.5\n",
       "20568          49454.0  442223.200386        359249.5\n",
       "6296          207362.0  442223.200386        359249.5\n",
       "25689         469585.0  442223.200386        359249.5"
      ]
     },
     "execution_count": 75,
     "metadata": {},
     "output_type": "execute_result"
    }
   ],
   "source": [
    "y_train.head()"
   ]
  },
  {
   "cell_type": "code",
   "execution_count": 76,
   "metadata": {},
   "outputs": [
    {
     "data": {
      "text/plain": [
       "{'sse': 2522538881119854.0,\n",
       " 'mse': 174064234137.44507,\n",
       " 'rmse': 417210.05996673316}"
      ]
     },
     "execution_count": 76,
     "metadata": {},
     "output_type": "execute_result"
    }
   ],
   "source": [
    "#Evaluate the baseline model using the mean\n",
    "baseline_mean_errors(y_train.appraised_value)"
   ]
  },
  {
   "cell_type": "code",
   "execution_count": 77,
   "metadata": {},
   "outputs": [
    {
     "data": {
      "text/plain": [
       "{'sse': 2622311010899531.0,\n",
       " 'mse': 180948869093.2605,\n",
       " 'rmse': 425380.8518178275}"
      ]
     },
     "execution_count": 77,
     "metadata": {},
     "output_type": "execute_result"
    }
   ],
   "source": [
    "#Evaluate the baseline model using the median\n",
    "baseline_median_errors(y_train.appraised_value)"
   ]
  },
  {
   "cell_type": "code",
   "execution_count": 78,
   "metadata": {},
   "outputs": [
    {
     "data": {
      "text/html": [
       "<div>\n",
       "<style scoped>\n",
       "    .dataframe tbody tr th:only-of-type {\n",
       "        vertical-align: middle;\n",
       "    }\n",
       "\n",
       "    .dataframe tbody tr th {\n",
       "        vertical-align: top;\n",
       "    }\n",
       "\n",
       "    .dataframe thead th {\n",
       "        text-align: right;\n",
       "    }\n",
       "</style>\n",
       "<table border=\"1\" class=\"dataframe\">\n",
       "  <thead>\n",
       "    <tr style=\"text-align: right;\">\n",
       "      <th></th>\n",
       "      <th>appraised_value</th>\n",
       "      <th>AV_pred_mean</th>\n",
       "      <th>AV_pred_median</th>\n",
       "    </tr>\n",
       "  </thead>\n",
       "  <tbody>\n",
       "    <tr>\n",
       "      <th>23338</th>\n",
       "      <td>423838.0</td>\n",
       "      <td>442223.200386</td>\n",
       "      <td>359249.5</td>\n",
       "    </tr>\n",
       "    <tr>\n",
       "      <th>20410</th>\n",
       "      <td>318000.0</td>\n",
       "      <td>442223.200386</td>\n",
       "      <td>359249.5</td>\n",
       "    </tr>\n",
       "    <tr>\n",
       "      <th>21610</th>\n",
       "      <td>53587.0</td>\n",
       "      <td>442223.200386</td>\n",
       "      <td>359249.5</td>\n",
       "    </tr>\n",
       "    <tr>\n",
       "      <th>11368</th>\n",
       "      <td>329106.0</td>\n",
       "      <td>442223.200386</td>\n",
       "      <td>359249.5</td>\n",
       "    </tr>\n",
       "    <tr>\n",
       "      <th>27414</th>\n",
       "      <td>457703.0</td>\n",
       "      <td>442223.200386</td>\n",
       "      <td>359249.5</td>\n",
       "    </tr>\n",
       "  </tbody>\n",
       "</table>\n",
       "</div>"
      ],
      "text/plain": [
       "       appraised_value   AV_pred_mean  AV_pred_median\n",
       "23338         423838.0  442223.200386        359249.5\n",
       "20410         318000.0  442223.200386        359249.5\n",
       "21610          53587.0  442223.200386        359249.5\n",
       "11368         329106.0  442223.200386        359249.5\n",
       "27414         457703.0  442223.200386        359249.5"
      ]
     },
     "execution_count": 78,
     "metadata": {},
     "output_type": "execute_result"
    }
   ],
   "source": [
    "y_validate.head()"
   ]
  },
  {
   "cell_type": "code",
   "execution_count": 79,
   "metadata": {},
   "outputs": [
    {
     "data": {
      "image/png": "[encoded data removed]",
      "text/plain": [
       "<Figure size 1152x576 with 1 Axes>"
      ]
     },
     "metadata": {
      "needs_background": "light"
     },
     "output_type": "display_data"
    }
   ],
   "source": [
    "# plot to visualize actual vs predicted. \n",
    "plt.figure(figsize=(16, 8))\n",
    "plt.hist(y_train.appraised_value, color='yellow', alpha=.6, label=\"Actual Value\", log=True)\n",
    "plt.vlines(y_train.appraised_value.mean(), 0, 10**5, color='red', label=\"Predicted Prop Value - Mean\")\n",
    "plt.vlines(y_train.appraised_value.median(), 0, 10**5, color='blue', label=\"Predicted Prop Value - Median\")\n",
    "plt.xlabel(\"Appraised Property Value\")\n",
    "plt.ylabel(\"Number of Properties\")\n",
    "plt.legend()\n",
    "plt.show()"
   ]
  },
  {
   "cell_type": "markdown",
   "metadata": {},
   "source": [
    "#### Takeaways\n",
    "\n",
    "- The predicted mean value performed better than the median."
   ]
  },
  {
   "cell_type": "code",
   "execution_count": 80,
   "metadata": {},
   "outputs": [
    {
     "data": {
      "text/html": [
       "<div>\n",
       "<style scoped>\n",
       "    .dataframe tbody tr th:only-of-type {\n",
       "        vertical-align: middle;\n",
       "    }\n",
       "\n",
       "    .dataframe tbody tr th {\n",
       "        vertical-align: top;\n",
       "    }\n",
       "\n",
       "    .dataframe thead th {\n",
       "        text-align: right;\n",
       "    }\n",
       "</style>\n",
       "<table border=\"1\" class=\"dataframe\">\n",
       "  <thead>\n",
       "    <tr style=\"text-align: right;\">\n",
       "      <th></th>\n",
       "      <th>appraised_value</th>\n",
       "      <th>AV_pred_mean</th>\n",
       "      <th>AV_pred_median</th>\n",
       "    </tr>\n",
       "  </thead>\n",
       "  <tbody>\n",
       "    <tr>\n",
       "      <th>22794</th>\n",
       "      <td>772507.0</td>\n",
       "      <td>442223.200386</td>\n",
       "      <td>359249.5</td>\n",
       "    </tr>\n",
       "    <tr>\n",
       "      <th>15997</th>\n",
       "      <td>416091.0</td>\n",
       "      <td>442223.200386</td>\n",
       "      <td>359249.5</td>\n",
       "    </tr>\n",
       "    <tr>\n",
       "      <th>20568</th>\n",
       "      <td>49454.0</td>\n",
       "      <td>442223.200386</td>\n",
       "      <td>359249.5</td>\n",
       "    </tr>\n",
       "    <tr>\n",
       "      <th>6296</th>\n",
       "      <td>207362.0</td>\n",
       "      <td>442223.200386</td>\n",
       "      <td>359249.5</td>\n",
       "    </tr>\n",
       "    <tr>\n",
       "      <th>25689</th>\n",
       "      <td>469585.0</td>\n",
       "      <td>442223.200386</td>\n",
       "      <td>359249.5</td>\n",
       "    </tr>\n",
       "  </tbody>\n",
       "</table>\n",
       "</div>"
      ],
      "text/plain": [
       "       appraised_value   AV_pred_mean  AV_pred_median\n",
       "22794         772507.0  442223.200386        359249.5\n",
       "15997         416091.0  442223.200386        359249.5\n",
       "20568          49454.0  442223.200386        359249.5\n",
       "6296          207362.0  442223.200386        359249.5\n",
       "25689         469585.0  442223.200386        359249.5"
      ]
     },
     "execution_count": 80,
     "metadata": {},
     "output_type": "execute_result"
    }
   ],
   "source": [
    "y_train.head()"
   ]
  },
  {
   "cell_type": "code",
   "execution_count": 81,
   "metadata": {},
   "outputs": [
    {
     "data": {
      "text/html": [
       "<div>\n",
       "<style scoped>\n",
       "    .dataframe tbody tr th:only-of-type {\n",
       "        vertical-align: middle;\n",
       "    }\n",
       "\n",
       "    .dataframe tbody tr th {\n",
       "        vertical-align: top;\n",
       "    }\n",
       "\n",
       "    .dataframe thead th {\n",
       "        text-align: right;\n",
       "    }\n",
       "</style>\n",
       "<table border=\"1\" class=\"dataframe\">\n",
       "  <thead>\n",
       "    <tr style=\"text-align: right;\">\n",
       "      <th></th>\n",
       "      <th>appraised_value</th>\n",
       "      <th>AV_pred_mean</th>\n",
       "    </tr>\n",
       "  </thead>\n",
       "  <tbody>\n",
       "    <tr>\n",
       "      <th>22794</th>\n",
       "      <td>772507.0</td>\n",
       "      <td>442223.200386</td>\n",
       "    </tr>\n",
       "    <tr>\n",
       "      <th>15997</th>\n",
       "      <td>416091.0</td>\n",
       "      <td>442223.200386</td>\n",
       "    </tr>\n",
       "    <tr>\n",
       "      <th>20568</th>\n",
       "      <td>49454.0</td>\n",
       "      <td>442223.200386</td>\n",
       "    </tr>\n",
       "    <tr>\n",
       "      <th>6296</th>\n",
       "      <td>207362.0</td>\n",
       "      <td>442223.200386</td>\n",
       "    </tr>\n",
       "    <tr>\n",
       "      <th>25689</th>\n",
       "      <td>469585.0</td>\n",
       "      <td>442223.200386</td>\n",
       "    </tr>\n",
       "  </tbody>\n",
       "</table>\n",
       "</div>"
      ],
      "text/plain": [
       "       appraised_value   AV_pred_mean\n",
       "22794         772507.0  442223.200386\n",
       "15997         416091.0  442223.200386\n",
       "20568          49454.0  442223.200386\n",
       "6296          207362.0  442223.200386\n",
       "25689         469585.0  442223.200386"
      ]
     },
     "execution_count": 81,
     "metadata": {},
     "output_type": "execute_result"
    }
   ],
   "source": [
    "#Now that I have established the mean as the baseline, I will drop the median and rename baseline to yhat_baseline\n",
    "y_train.drop(columns={'AV_pred_median'}, inplace=True)\n",
    "y_validate.drop(columns={'AV_pred_median'}, inplace=True)\n",
    "y_test.drop(columns={'AV_pred_median'}, inplace=True)\n",
    "y_train.head()"
   ]
  },
  {
   "cell_type": "code",
   "execution_count": 82,
   "metadata": {},
   "outputs": [
    {
     "data": {
      "text/html": [
       "<div>\n",
       "<style scoped>\n",
       "    .dataframe tbody tr th:only-of-type {\n",
       "        vertical-align: middle;\n",
       "    }\n",
       "\n",
       "    .dataframe tbody tr th {\n",
       "        vertical-align: top;\n",
       "    }\n",
       "\n",
       "    .dataframe thead th {\n",
       "        text-align: right;\n",
       "    }\n",
       "</style>\n",
       "<table border=\"1\" class=\"dataframe\">\n",
       "  <thead>\n",
       "    <tr style=\"text-align: right;\">\n",
       "      <th></th>\n",
       "      <th>appraised_value</th>\n",
       "      <th>yhat_baseline</th>\n",
       "    </tr>\n",
       "  </thead>\n",
       "  <tbody>\n",
       "    <tr>\n",
       "      <th>22794</th>\n",
       "      <td>772507.0</td>\n",
       "      <td>442223.200386</td>\n",
       "    </tr>\n",
       "    <tr>\n",
       "      <th>15997</th>\n",
       "      <td>416091.0</td>\n",
       "      <td>442223.200386</td>\n",
       "    </tr>\n",
       "    <tr>\n",
       "      <th>20568</th>\n",
       "      <td>49454.0</td>\n",
       "      <td>442223.200386</td>\n",
       "    </tr>\n",
       "    <tr>\n",
       "      <th>6296</th>\n",
       "      <td>207362.0</td>\n",
       "      <td>442223.200386</td>\n",
       "    </tr>\n",
       "    <tr>\n",
       "      <th>25689</th>\n",
       "      <td>469585.0</td>\n",
       "      <td>442223.200386</td>\n",
       "    </tr>\n",
       "  </tbody>\n",
       "</table>\n",
       "</div>"
      ],
      "text/plain": [
       "       appraised_value  yhat_baseline\n",
       "22794         772507.0  442223.200386\n",
       "15997         416091.0  442223.200386\n",
       "20568          49454.0  442223.200386\n",
       "6296          207362.0  442223.200386\n",
       "25689         469585.0  442223.200386"
      ]
     },
     "execution_count": 82,
     "metadata": {},
     "output_type": "execute_result"
    }
   ],
   "source": [
    "y_train.rename(columns={'AV_pred_mean': 'yhat_baseline'}, inplace=True)\n",
    "y_validate.rename(columns={'AV_pred_mean': 'yhat_baseline'}, inplace=True)\n",
    "y_test.rename(columns={'AV_pred_mean': 'yhat_baseline'}, inplace=True)\n",
    "y_train.head()"
   ]
  },
  {
   "cell_type": "markdown",
   "metadata": {},
   "source": [
    "Linear Regression (lm)"
   ]
  },
  {
   "cell_type": "code",
   "execution_count": 83,
   "metadata": {},
   "outputs": [],
   "source": [
    "# create the model object\n",
    "lm = LinearRegression(normalize=True)\n",
    "\n",
    "# fit the model to our training data. We must specify the column in y_train, \n",
    "# since we have converted it to a dataframe from a series! \n",
    "lm.fit(X_train_scaled, y_train.appraised_value)\n",
    "\n",
    "# predict train\n",
    "y_train['yhat_lm'] = lm.predict(X_train_scaled)\n",
    "\n",
    "# compute residuals\n",
    "y_train['residual'] = y_train['yhat_lm'] - y_train['appraised_value']\n",
    "y_train['baseline_residual'] = y_train['yhat_baseline'] - y_train['appraised_value']\n"
   ]
  },
  {
   "cell_type": "code",
   "execution_count": 84,
   "metadata": {},
   "outputs": [
    {
     "data": {
      "text/html": [
       "<div>\n",
       "<style scoped>\n",
       "    .dataframe tbody tr th:only-of-type {\n",
       "        vertical-align: middle;\n",
       "    }\n",
       "\n",
       "    .dataframe tbody tr th {\n",
       "        vertical-align: top;\n",
       "    }\n",
       "\n",
       "    .dataframe thead th {\n",
       "        text-align: right;\n",
       "    }\n",
       "</style>\n",
       "<table border=\"1\" class=\"dataframe\">\n",
       "  <thead>\n",
       "    <tr style=\"text-align: right;\">\n",
       "      <th></th>\n",
       "      <th>appraised_value</th>\n",
       "      <th>yhat_baseline</th>\n",
       "      <th>yhat_lm</th>\n",
       "      <th>residual</th>\n",
       "      <th>baseline_residual</th>\n",
       "    </tr>\n",
       "  </thead>\n",
       "  <tbody>\n",
       "    <tr>\n",
       "      <th>22794</th>\n",
       "      <td>772507.0</td>\n",
       "      <td>442223.200386</td>\n",
       "      <td>702459.006426</td>\n",
       "      <td>-70047.993574</td>\n",
       "      <td>-330283.799614</td>\n",
       "    </tr>\n",
       "    <tr>\n",
       "      <th>15997</th>\n",
       "      <td>416091.0</td>\n",
       "      <td>442223.200386</td>\n",
       "      <td>380154.556388</td>\n",
       "      <td>-35936.443612</td>\n",
       "      <td>26132.200386</td>\n",
       "    </tr>\n",
       "    <tr>\n",
       "      <th>20568</th>\n",
       "      <td>49454.0</td>\n",
       "      <td>442223.200386</td>\n",
       "      <td>227619.276546</td>\n",
       "      <td>178165.276546</td>\n",
       "      <td>392769.200386</td>\n",
       "    </tr>\n",
       "    <tr>\n",
       "      <th>6296</th>\n",
       "      <td>207362.0</td>\n",
       "      <td>442223.200386</td>\n",
       "      <td>568807.248774</td>\n",
       "      <td>361445.248774</td>\n",
       "      <td>234861.200386</td>\n",
       "    </tr>\n",
       "    <tr>\n",
       "      <th>25689</th>\n",
       "      <td>469585.0</td>\n",
       "      <td>442223.200386</td>\n",
       "      <td>557700.948098</td>\n",
       "      <td>88115.948098</td>\n",
       "      <td>-27361.799614</td>\n",
       "    </tr>\n",
       "  </tbody>\n",
       "</table>\n",
       "</div>"
      ],
      "text/plain": [
       "       appraised_value  yhat_baseline        yhat_lm       residual  \\\n",
       "22794         772507.0  442223.200386  702459.006426  -70047.993574   \n",
       "15997         416091.0  442223.200386  380154.556388  -35936.443612   \n",
       "20568          49454.0  442223.200386  227619.276546  178165.276546   \n",
       "6296          207362.0  442223.200386  568807.248774  361445.248774   \n",
       "25689         469585.0  442223.200386  557700.948098   88115.948098   \n",
       "\n",
       "       baseline_residual  \n",
       "22794     -330283.799614  \n",
       "15997       26132.200386  \n",
       "20568      392769.200386  \n",
       "6296       234861.200386  \n",
       "25689      -27361.799614  "
      ]
     },
     "execution_count": 84,
     "metadata": {},
     "output_type": "execute_result"
    }
   ],
   "source": [
    "y_train.head()"
   ]
  },
  {
   "cell_type": "code",
   "execution_count": 85,
   "metadata": {},
   "outputs": [
    {
     "data": {
      "image/png": "[encoded data removed]",
      "text/plain": [
       "<Figure size 432x288 with 1 Axes>"
      ]
     },
     "metadata": {
      "needs_background": "light"
     },
     "output_type": "display_data"
    },
    {
     "data": {
      "text/plain": [
       "sse     1.984827e+15\n",
       "ess     5.377118e+14\n",
       "tss     2.522539e+15\n",
       "mse     1.369602e+11\n",
       "rmse    3.700813e+05\n",
       "r^2     2.131629e-01\n",
       "dtype: float64"
      ]
     },
     "execution_count": 85,
     "metadata": {},
     "output_type": "execute_result"
    }
   ],
   "source": [
    "#Use evaluate model to visualize the residuals\n",
    "plot_residuals(y_train.appraised_value, y_train.yhat_lm)\n",
    "\n",
    "#Retrieve evaluation metrics for Linear Regression Model on in-sample data\n",
    "regression_errors(y_train.appraised_value, y_train.yhat_lm)"
   ]
  },
  {
   "cell_type": "markdown",
   "metadata": {},
   "source": [
    "LassoLars (lars)"
   ]
  },
  {
   "cell_type": "code",
   "execution_count": 86,
   "metadata": {},
   "outputs": [],
   "source": [
    "# create the model object\n",
    "lars = LassoLars(alpha=1.0)\n",
    "\n",
    "# fit the model to our training data. We must specify the column in y_train, \n",
    "# since we have converted it to a dataframe from a series! \n",
    "lars.fit(X_train_scaled, y_train.appraised_value)\n",
    "\n",
    "# predict train\n",
    "y_train['yhat_lars'] = lars.predict(X_train_scaled)\n"
   ]
  },
  {
   "cell_type": "code",
   "execution_count": 87,
   "metadata": {},
   "outputs": [
    {
     "data": {
      "image/png": "[encoded data removed]",
      "text/plain": [
       "<Figure size 432x288 with 1 Axes>"
      ]
     },
     "metadata": {
      "needs_background": "light"
     },
     "output_type": "display_data"
    },
    {
     "data": {
      "text/plain": [
       "sse     1.984828e+15\n",
       "ess     5.365153e+14\n",
       "tss     2.522539e+15\n",
       "mse     1.369603e+11\n",
       "rmse    3.700815e+05\n",
       "r^2     2.126886e-01\n",
       "dtype: float64"
      ]
     },
     "execution_count": 87,
     "metadata": {},
     "output_type": "execute_result"
    }
   ],
   "source": [
    "#Use evaluate model to visualize the residuals\n",
    "plot_residuals(y_train.appraised_value, y_train.yhat_lars)\n",
    "\n",
    "#Retrieve evaluation metrics for Lasso + Lars Model on in-sample data\n",
    "regression_errors(y_train.appraised_value, y_train.yhat_lars)"
   ]
  },
  {
   "cell_type": "markdown",
   "metadata": {},
   "source": [
    "TweedieRegressor (glm)"
   ]
  },
  {
   "cell_type": "code",
   "execution_count": 88,
   "metadata": {},
   "outputs": [],
   "source": [
    "# create the model object\n",
    "# create the model object\n",
    "glm = TweedieRegressor(power=1, alpha=0)\n",
    "\n",
    "# fit the model to our training data. We must specify the column in y_train, \n",
    "# since we have converted it to a dataframe from a series! \n",
    "glm.fit(X_train_scaled, y_train.appraised_value)\n",
    "\n",
    "# predict train\n",
    "y_train['yhat_glm'] = glm.predict(X_train_scaled)\n"
   ]
  },
  {
   "cell_type": "code",
   "execution_count": 89,
   "metadata": {},
   "outputs": [
    {
     "data": {
      "image/png": "[encoded data removed]",
      "text/plain": [
       "<Figure size 432x288 with 1 Axes>"
      ]
     },
     "metadata": {
      "needs_background": "light"
     },
     "output_type": "display_data"
    },
    {
     "data": {
      "text/plain": [
       "sse     1.783941e+15\n",
       "ess     7.566013e+14\n",
       "tss     2.522539e+15\n",
       "mse     1.230983e+11\n",
       "rmse    3.508537e+05\n",
       "r^2     2.999364e-01\n",
       "dtype: float64"
      ]
     },
     "execution_count": 89,
     "metadata": {},
     "output_type": "execute_result"
    }
   ],
   "source": [
    "#Use evaluate model to visualize the residuals\n",
    "plot_residuals(y_train.appraised_value, y_train.yhat_glm)\n",
    "\n",
    "#How does the GLM model perform on in-sample data?\n",
    "regression_errors(y_train.appraised_value, y_train.yhat_glm)"
   ]
  },
  {
   "cell_type": "markdown",
   "metadata": {},
   "source": [
    "#### Takeaway\n",
    "\n",
    "- The best modeling turns out to be the Lasso/Lars model, but they were all close.\n",
    "- Lasso/Lars had the best r^2."
   ]
  },
  {
   "cell_type": "code",
   "execution_count": 90,
   "metadata": {},
   "outputs": [
    {
     "data": {
      "text/plain": [
       "sse     6.565008e+14\n",
       "ess     1.845908e+14\n",
       "tss     8.333577e+14\n",
       "mse     1.268355e+11\n",
       "rmse    3.561398e+05\n",
       "r^2     2.215024e-01\n",
       "dtype: float64"
      ]
     },
     "execution_count": 90,
     "metadata": {},
     "output_type": "execute_result"
    }
   ],
   "source": [
    "# predict validate\n",
    "y_test['yhat_lars'] = lars.predict(X_test_scaled)\n",
    "\n",
    "# compute residuals\n",
    "y_test['residual'] = y_test['yhat_lars'] - y_test['appraised_value']\n",
    "y_test['baseline_residual'] = y_test['yhat_baseline'] - y_test['appraised_value']\n",
    "\n",
    "#How does the Lasso/Lars model perform on out of sample data?\n",
    "regression_errors(y_test.appraised_value, y_test.yhat_lars)"
   ]
  },
  {
   "cell_type": "code",
   "execution_count": 91,
   "metadata": {},
   "outputs": [
    {
     "data": {
      "text/html": [
       "<div>\n",
       "<style scoped>\n",
       "    .dataframe tbody tr th:only-of-type {\n",
       "        vertical-align: middle;\n",
       "    }\n",
       "\n",
       "    .dataframe tbody tr th {\n",
       "        vertical-align: top;\n",
       "    }\n",
       "\n",
       "    .dataframe thead th {\n",
       "        text-align: right;\n",
       "    }\n",
       "</style>\n",
       "<table border=\"1\" class=\"dataframe\">\n",
       "  <thead>\n",
       "    <tr style=\"text-align: right;\">\n",
       "      <th></th>\n",
       "      <th>appraised_value</th>\n",
       "      <th>yhat_baseline</th>\n",
       "      <th>yhat_lars</th>\n",
       "      <th>residual</th>\n",
       "      <th>baseline_residual</th>\n",
       "    </tr>\n",
       "  </thead>\n",
       "  <tbody>\n",
       "    <tr>\n",
       "      <th>26225</th>\n",
       "      <td>275074.0</td>\n",
       "      <td>442223.200386</td>\n",
       "      <td>284076.289869</td>\n",
       "      <td>9002.289869</td>\n",
       "      <td>167149.200386</td>\n",
       "    </tr>\n",
       "    <tr>\n",
       "      <th>25045</th>\n",
       "      <td>522000.0</td>\n",
       "      <td>442223.200386</td>\n",
       "      <td>505609.224651</td>\n",
       "      <td>-16390.775349</td>\n",
       "      <td>-79776.799614</td>\n",
       "    </tr>\n",
       "    <tr>\n",
       "      <th>4403</th>\n",
       "      <td>121087.0</td>\n",
       "      <td>442223.200386</td>\n",
       "      <td>563946.014068</td>\n",
       "      <td>442859.014068</td>\n",
       "      <td>321136.200386</td>\n",
       "    </tr>\n",
       "    <tr>\n",
       "      <th>8087</th>\n",
       "      <td>803062.0</td>\n",
       "      <td>442223.200386</td>\n",
       "      <td>483616.414542</td>\n",
       "      <td>-319445.585458</td>\n",
       "      <td>-360838.799614</td>\n",
       "    </tr>\n",
       "    <tr>\n",
       "      <th>19671</th>\n",
       "      <td>290816.0</td>\n",
       "      <td>442223.200386</td>\n",
       "      <td>394356.338189</td>\n",
       "      <td>103540.338189</td>\n",
       "      <td>151407.200386</td>\n",
       "    </tr>\n",
       "  </tbody>\n",
       "</table>\n",
       "</div>"
      ],
      "text/plain": [
       "       appraised_value  yhat_baseline      yhat_lars       residual  \\\n",
       "26225         275074.0  442223.200386  284076.289869    9002.289869   \n",
       "25045         522000.0  442223.200386  505609.224651  -16390.775349   \n",
       "4403          121087.0  442223.200386  563946.014068  442859.014068   \n",
       "8087          803062.0  442223.200386  483616.414542 -319445.585458   \n",
       "19671         290816.0  442223.200386  394356.338189  103540.338189   \n",
       "\n",
       "       baseline_residual  \n",
       "26225      167149.200386  \n",
       "25045      -79776.799614  \n",
       "4403       321136.200386  \n",
       "8087      -360838.799614  \n",
       "19671      151407.200386  "
      ]
     },
     "execution_count": 91,
     "metadata": {},
     "output_type": "execute_result"
    }
   ],
   "source": [
    "y_test.head()"
   ]
  },
  {
   "cell_type": "code",
   "execution_count": 111,
   "metadata": {},
   "outputs": [
    {
     "data": {
      "image/png": "[encoded data removed]",
      "text/plain": [
       "<Figure size 432x288 with 1 Axes>"
      ]
     },
     "metadata": {
      "needs_background": "light"
     },
     "output_type": "display_data"
    },
    {
     "data": {
      "image/png": "[encoded data removed]",
      "text/plain": [
       "<Figure size 864x432 with 1 Axes>"
      ]
     },
     "metadata": {
      "needs_background": "light"
     },
     "output_type": "display_data"
    }
   ],
   "source": [
    "#Use evaluate model to visualize the residuals\n",
    "plot_residuals(y_test.appraised_value, y_test.yhat_lars)\n",
    "a_plot = sns.lmplot(x = 'appraised_value', y = 'yhat_lars', data = y_test, height = 6, aspect = 2, x_bins=50,  fit_reg=True, line_kws={\"color\":\"orange\"})\n",
    "a_plot.set(title='Lasso/LARS Predictions')\n",
    "a_plot.set(xlim=(0, 2000000), ylim=(0,1000000))\n",
    "a_plot.set(xlabel='Appraised Value (in Millions)', ylabel='Predicted Value (in Millions)')\n",
    "plt.show()"
   ]
  },
  {
   "cell_type": "markdown",
   "metadata": {},
   "source": [
    "### Additional required data"
   ]
  },
  {
   "cell_type": "markdown",
   "metadata": {},
   "source": [
    "- How do tax rate differ between the 3 counties?\n",
    "- (FIPS: 6037 - Los Angeles County, California\n",
    "-  6059 - Orange County, California\n",
    "-  6111 - Ventura County, California)"
   ]
  },
  {
   "cell_type": "code",
   "execution_count": 17,
   "metadata": {},
   "outputs": [],
   "source": [
    "# Add the county name into the dataframe\n",
    "df['county_name'] = df['fips'].map({6037: 'Los Angeles', 6059: 'Orange', 6111: 'Ventura'})\n"
   ]
  },
  {
   "cell_type": "code",
   "execution_count": 18,
   "metadata": {},
   "outputs": [
    {
     "data": {
      "text/html": [
       "<div>\n",
       "<style scoped>\n",
       "    .dataframe tbody tr th:only-of-type {\n",
       "        vertical-align: middle;\n",
       "    }\n",
       "\n",
       "    .dataframe tbody tr th {\n",
       "        vertical-align: top;\n",
       "    }\n",
       "\n",
       "    .dataframe thead th {\n",
       "        text-align: right;\n",
       "    }\n",
       "</style>\n",
       "<table border=\"1\" class=\"dataframe\">\n",
       "  <thead>\n",
       "    <tr style=\"text-align: right;\">\n",
       "      <th></th>\n",
       "      <th>land_use_typeid</th>\n",
       "      <th>transactiondate</th>\n",
       "      <th>square_feet</th>\n",
       "      <th>num_bedrooms</th>\n",
       "      <th>num_bathrooms</th>\n",
       "      <th>appraised_value</th>\n",
       "      <th>taxes</th>\n",
       "      <th>fips</th>\n",
       "      <th>tax_rate</th>\n",
       "      <th>county_name</th>\n",
       "    </tr>\n",
       "  </thead>\n",
       "  <tbody>\n",
       "    <tr>\n",
       "      <th>0</th>\n",
       "      <td>261.0</td>\n",
       "      <td>2017-07-21</td>\n",
       "      <td>1316.0</td>\n",
       "      <td>3.0</td>\n",
       "      <td>2.0</td>\n",
       "      <td>205123.0</td>\n",
       "      <td>2627.48</td>\n",
       "      <td>6037.0</td>\n",
       "      <td>0.012809</td>\n",
       "      <td>Los Angeles</td>\n",
       "    </tr>\n",
       "    <tr>\n",
       "      <th>1</th>\n",
       "      <td>261.0</td>\n",
       "      <td>2017-06-23</td>\n",
       "      <td>1458.0</td>\n",
       "      <td>3.0</td>\n",
       "      <td>2.0</td>\n",
       "      <td>136104.0</td>\n",
       "      <td>2319.90</td>\n",
       "      <td>6037.0</td>\n",
       "      <td>0.017045</td>\n",
       "      <td>Los Angeles</td>\n",
       "    </tr>\n",
       "    <tr>\n",
       "      <th>2</th>\n",
       "      <td>261.0</td>\n",
       "      <td>2017-06-30</td>\n",
       "      <td>1421.0</td>\n",
       "      <td>2.0</td>\n",
       "      <td>1.0</td>\n",
       "      <td>35606.0</td>\n",
       "      <td>543.69</td>\n",
       "      <td>6037.0</td>\n",
       "      <td>0.015270</td>\n",
       "      <td>Los Angeles</td>\n",
       "    </tr>\n",
       "    <tr>\n",
       "      <th>3</th>\n",
       "      <td>261.0</td>\n",
       "      <td>2017-06-01</td>\n",
       "      <td>2541.0</td>\n",
       "      <td>4.0</td>\n",
       "      <td>3.0</td>\n",
       "      <td>880456.0</td>\n",
       "      <td>9819.72</td>\n",
       "      <td>6059.0</td>\n",
       "      <td>0.011153</td>\n",
       "      <td>Orange</td>\n",
       "    </tr>\n",
       "    <tr>\n",
       "      <th>4</th>\n",
       "      <td>261.0</td>\n",
       "      <td>2017-08-23</td>\n",
       "      <td>1491.0</td>\n",
       "      <td>3.0</td>\n",
       "      <td>2.0</td>\n",
       "      <td>107110.0</td>\n",
       "      <td>1399.27</td>\n",
       "      <td>6037.0</td>\n",
       "      <td>0.013064</td>\n",
       "      <td>Los Angeles</td>\n",
       "    </tr>\n",
       "    <tr>\n",
       "      <th>...</th>\n",
       "      <td>...</td>\n",
       "      <td>...</td>\n",
       "      <td>...</td>\n",
       "      <td>...</td>\n",
       "      <td>...</td>\n",
       "      <td>...</td>\n",
       "      <td>...</td>\n",
       "      <td>...</td>\n",
       "      <td>...</td>\n",
       "      <td>...</td>\n",
       "    </tr>\n",
       "    <tr>\n",
       "      <th>28414</th>\n",
       "      <td>261.0</td>\n",
       "      <td>2017-08-31</td>\n",
       "      <td>1187.0</td>\n",
       "      <td>4.0</td>\n",
       "      <td>1.5</td>\n",
       "      <td>465999.0</td>\n",
       "      <td>5552.68</td>\n",
       "      <td>6059.0</td>\n",
       "      <td>0.011916</td>\n",
       "      <td>Orange</td>\n",
       "    </tr>\n",
       "    <tr>\n",
       "      <th>28415</th>\n",
       "      <td>261.0</td>\n",
       "      <td>2017-08-31</td>\n",
       "      <td>3015.0</td>\n",
       "      <td>5.0</td>\n",
       "      <td>3.0</td>\n",
       "      <td>852813.0</td>\n",
       "      <td>11662.88</td>\n",
       "      <td>6059.0</td>\n",
       "      <td>0.013676</td>\n",
       "      <td>Orange</td>\n",
       "    </tr>\n",
       "    <tr>\n",
       "      <th>28416</th>\n",
       "      <td>261.0</td>\n",
       "      <td>2017-08-31</td>\n",
       "      <td>2992.0</td>\n",
       "      <td>5.0</td>\n",
       "      <td>3.0</td>\n",
       "      <td>1120000.0</td>\n",
       "      <td>13663.03</td>\n",
       "      <td>6037.0</td>\n",
       "      <td>0.012199</td>\n",
       "      <td>Los Angeles</td>\n",
       "    </tr>\n",
       "    <tr>\n",
       "      <th>28417</th>\n",
       "      <td>261.0</td>\n",
       "      <td>2017-08-31</td>\n",
       "      <td>1574.0</td>\n",
       "      <td>3.0</td>\n",
       "      <td>3.0</td>\n",
       "      <td>563463.0</td>\n",
       "      <td>6903.66</td>\n",
       "      <td>6037.0</td>\n",
       "      <td>0.012252</td>\n",
       "      <td>Los Angeles</td>\n",
       "    </tr>\n",
       "    <tr>\n",
       "      <th>28418</th>\n",
       "      <td>261.0</td>\n",
       "      <td>2018-05-25</td>\n",
       "      <td>1050.0</td>\n",
       "      <td>3.0</td>\n",
       "      <td>2.0</td>\n",
       "      <td>259334.0</td>\n",
       "      <td>3345.78</td>\n",
       "      <td>6037.0</td>\n",
       "      <td>0.012901</td>\n",
       "      <td>Los Angeles</td>\n",
       "    </tr>\n",
       "  </tbody>\n",
       "</table>\n",
       "<p>28344 rows × 10 columns</p>\n",
       "</div>"
      ],
      "text/plain": [
       "       land_use_typeid transactiondate  square_feet  num_bedrooms  \\\n",
       "0                261.0      2017-07-21       1316.0           3.0   \n",
       "1                261.0      2017-06-23       1458.0           3.0   \n",
       "2                261.0      2017-06-30       1421.0           2.0   \n",
       "3                261.0      2017-06-01       2541.0           4.0   \n",
       "4                261.0      2017-08-23       1491.0           3.0   \n",
       "...                ...             ...          ...           ...   \n",
       "28414            261.0      2017-08-31       1187.0           4.0   \n",
       "28415            261.0      2017-08-31       3015.0           5.0   \n",
       "28416            261.0      2017-08-31       2992.0           5.0   \n",
       "28417            261.0      2017-08-31       1574.0           3.0   \n",
       "28418            261.0      2018-05-25       1050.0           3.0   \n",
       "\n",
       "       num_bathrooms  appraised_value     taxes    fips  tax_rate  county_name  \n",
       "0                2.0         205123.0   2627.48  6037.0  0.012809  Los Angeles  \n",
       "1                2.0         136104.0   2319.90  6037.0  0.017045  Los Angeles  \n",
       "2                1.0          35606.0    543.69  6037.0  0.015270  Los Angeles  \n",
       "3                3.0         880456.0   9819.72  6059.0  0.011153       Orange  \n",
       "4                2.0         107110.0   1399.27  6037.0  0.013064  Los Angeles  \n",
       "...              ...              ...       ...     ...       ...          ...  \n",
       "28414            1.5         465999.0   5552.68  6059.0  0.011916       Orange  \n",
       "28415            3.0         852813.0  11662.88  6059.0  0.013676       Orange  \n",
       "28416            3.0        1120000.0  13663.03  6037.0  0.012199  Los Angeles  \n",
       "28417            3.0         563463.0   6903.66  6037.0  0.012252  Los Angeles  \n",
       "28418            2.0         259334.0   3345.78  6037.0  0.012901  Los Angeles  \n",
       "\n",
       "[28344 rows x 10 columns]"
      ]
     },
     "execution_count": 18,
     "metadata": {},
     "output_type": "execute_result"
    }
   ],
   "source": [
    "df"
   ]
  },
  {
   "cell_type": "code",
   "execution_count": 19,
   "metadata": {},
   "outputs": [
    {
     "data": {
      "text/plain": [
       "Los Angeles    17933\n",
       "Orange          7743\n",
       "Ventura         2668\n",
       "Name: county_name, dtype: int64"
      ]
     },
     "execution_count": 19,
     "metadata": {},
     "output_type": "execute_result"
    }
   ],
   "source": [
    "# show counts by county\n",
    "df.county_name.value_counts()"
   ]
  },
  {
   "cell_type": "code",
   "execution_count": 31,
   "metadata": {
    "scrolled": true
   },
   "outputs": [
    {
     "data": {
      "text/html": [
       "<div>\n",
       "<style scoped>\n",
       "    .dataframe tbody tr th:only-of-type {\n",
       "        vertical-align: middle;\n",
       "    }\n",
       "\n",
       "    .dataframe tbody tr th {\n",
       "        vertical-align: top;\n",
       "    }\n",
       "\n",
       "    .dataframe thead th {\n",
       "        text-align: right;\n",
       "    }\n",
       "</style>\n",
       "<table border=\"1\" class=\"dataframe\">\n",
       "  <thead>\n",
       "    <tr style=\"text-align: right;\">\n",
       "      <th></th>\n",
       "      <th>land_use_typeid</th>\n",
       "      <th>transactiondate</th>\n",
       "      <th>square_feet</th>\n",
       "      <th>num_bedrooms</th>\n",
       "      <th>num_bathrooms</th>\n",
       "      <th>appraised_value</th>\n",
       "      <th>taxes</th>\n",
       "      <th>fips</th>\n",
       "      <th>tax_rate</th>\n",
       "      <th>county_name</th>\n",
       "    </tr>\n",
       "  </thead>\n",
       "  <tbody>\n",
       "    <tr>\n",
       "      <th>0</th>\n",
       "      <td>261.0</td>\n",
       "      <td>2017-07-21</td>\n",
       "      <td>1316.0</td>\n",
       "      <td>3.0</td>\n",
       "      <td>2.0</td>\n",
       "      <td>205123.0</td>\n",
       "      <td>2627.48</td>\n",
       "      <td>6037.0</td>\n",
       "      <td>1.28</td>\n",
       "      <td>Los Angeles</td>\n",
       "    </tr>\n",
       "    <tr>\n",
       "      <th>1</th>\n",
       "      <td>261.0</td>\n",
       "      <td>2017-06-23</td>\n",
       "      <td>1458.0</td>\n",
       "      <td>3.0</td>\n",
       "      <td>2.0</td>\n",
       "      <td>136104.0</td>\n",
       "      <td>2319.90</td>\n",
       "      <td>6037.0</td>\n",
       "      <td>1.70</td>\n",
       "      <td>Los Angeles</td>\n",
       "    </tr>\n",
       "    <tr>\n",
       "      <th>2</th>\n",
       "      <td>261.0</td>\n",
       "      <td>2017-06-30</td>\n",
       "      <td>1421.0</td>\n",
       "      <td>2.0</td>\n",
       "      <td>1.0</td>\n",
       "      <td>35606.0</td>\n",
       "      <td>543.69</td>\n",
       "      <td>6037.0</td>\n",
       "      <td>1.53</td>\n",
       "      <td>Los Angeles</td>\n",
       "    </tr>\n",
       "    <tr>\n",
       "      <th>3</th>\n",
       "      <td>261.0</td>\n",
       "      <td>2017-06-01</td>\n",
       "      <td>2541.0</td>\n",
       "      <td>4.0</td>\n",
       "      <td>3.0</td>\n",
       "      <td>880456.0</td>\n",
       "      <td>9819.72</td>\n",
       "      <td>6059.0</td>\n",
       "      <td>1.12</td>\n",
       "      <td>Orange</td>\n",
       "    </tr>\n",
       "    <tr>\n",
       "      <th>4</th>\n",
       "      <td>261.0</td>\n",
       "      <td>2017-08-23</td>\n",
       "      <td>1491.0</td>\n",
       "      <td>3.0</td>\n",
       "      <td>2.0</td>\n",
       "      <td>107110.0</td>\n",
       "      <td>1399.27</td>\n",
       "      <td>6037.0</td>\n",
       "      <td>1.31</td>\n",
       "      <td>Los Angeles</td>\n",
       "    </tr>\n",
       "  </tbody>\n",
       "</table>\n",
       "</div>"
      ],
      "text/plain": [
       "   land_use_typeid transactiondate  square_feet  num_bedrooms  num_bathrooms  \\\n",
       "0            261.0      2017-07-21       1316.0           3.0            2.0   \n",
       "1            261.0      2017-06-23       1458.0           3.0            2.0   \n",
       "2            261.0      2017-06-30       1421.0           2.0            1.0   \n",
       "3            261.0      2017-06-01       2541.0           4.0            3.0   \n",
       "4            261.0      2017-08-23       1491.0           3.0            2.0   \n",
       "\n",
       "   appraised_value    taxes    fips  tax_rate  county_name  \n",
       "0         205123.0  2627.48  6037.0      1.28  Los Angeles  \n",
       "1         136104.0  2319.90  6037.0      1.70  Los Angeles  \n",
       "2          35606.0   543.69  6037.0      1.53  Los Angeles  \n",
       "3         880456.0  9819.72  6059.0      1.12       Orange  \n",
       "4         107110.0  1399.27  6037.0      1.31  Los Angeles  "
      ]
     },
     "execution_count": 31,
     "metadata": {},
     "output_type": "execute_result"
    }
   ],
   "source": [
    "df.head()"
   ]
  },
  {
   "cell_type": "code",
   "execution_count": 39,
   "metadata": {},
   "outputs": [
    {
     "name": "stdout",
     "output_type": "stream",
     "text": [
      "county_name\n",
      "Los Angeles    1.409127\n",
      "Orange         1.207425\n",
      "Ventura        1.176570\n",
      "Name: tax_rate, dtype: float64\n"
     ]
    }
   ],
   "source": [
    "df['tax_rate'] = round(((df['taxes'] / df['appraised_value'])* 100),2)\n",
    "print(df.groupby('county_name').tax_rate.mean())"
   ]
  },
  {
   "cell_type": "code",
   "execution_count": 112,
   "metadata": {},
   "outputs": [
    {
     "data": {
      "text/plain": [
       "(0.75, 2.0)"
      ]
     },
     "execution_count": 112,
     "metadata": {},
     "output_type": "execute_result"
    },
    {
     "data": {
      "image/png": "[encoded data removed]",
      "text/plain": [
       "<Figure size 1008x720 with 1 Axes>"
      ]
     },
     "metadata": {
      "needs_background": "light"
     },
     "output_type": "display_data"
    }
   ],
   "source": [
    "plt.figure(figsize=(14,10))\n",
    "sns.histplot(data=df, x=\"tax_rate\", hue=\"county_name\",kde = True, bins = 800,  palette={'Los Angeles':'b', 'Orange':'g', 'Ventura':'r'}).set(title='Tax Dist. by County')\n",
    "\n",
    "plt.xlim(.75, 2)"
   ]
  },
  {
   "cell_type": "markdown",
   "metadata": {},
   "source": [
    "#### Takeaway"
   ]
  },
  {
   "cell_type": "markdown",
   "metadata": {},
   "source": [
    "The above graph clearly depicts Los Angeles county has the highest average tax rate, followed by Orange county, then Ventura county."
   ]
  },
  {
   "cell_type": "code",
   "execution_count": null,
   "metadata": {},
   "outputs": [],
   "source": []
  }
 ],
 "metadata": {
  "kernelspec": {
   "display_name": "Python 3",
   "language": "python",
   "name": "python3"
  },
  "language_info": {
   "codemirror_mode": {
    "name": "ipython",
    "version": 3
   },
   "file_extension": ".py",
   "mimetype": "text/x-python",
   "name": "python",
   "nbconvert_exporter": "python",
   "pygments_lexer": "ipython3",
   "version": "3.8.5"
  }
 },
 "nbformat": 4,
 "nbformat_minor": 4
}
